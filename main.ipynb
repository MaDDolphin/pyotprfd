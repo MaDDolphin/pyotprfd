{
 "cells": [
  {
   "cell_type": "code",
   "execution_count": 1,
   "metadata": {},
   "outputs": [],
   "source": [
    "from sklearn.model_selection import train_test_split\n",
    "from sklearn.pipeline import make_pipeline\n",
    "from sklearn.linear_model import LinearRegression, SGDRegressor\n",
    "from sklearn.preprocessing import StandardScaler\n",
    "import matplotlib.pyplot as plt\n",
    "import numpy as np"
   ]
  },
  {
   "cell_type": "markdown",
   "metadata": {},
   "source": [
    "Вводим нашу выборку, согласно варианту"
   ]
  },
  {
   "cell_type": "code",
   "execution_count": 2,
   "metadata": {},
   "outputs": [],
   "source": [
    "y = np.array([4.67, 4.03, 3.45, 3.7, 3.19, 4.35, 3.6, 4.22, 3.25, 3.03, 3.49, 3.41, 4.3, 3.7, 4.74, 3.07, 4.56, 3.6, 3.36, 3.79, 4.5, 4.0, 3.82, 4.58])\n",
    "X = np.array([[4.9, 3.98, 4.46, 5.3, 4.0, 3.0, 4.0, 4.0, 5.0, 5.0, 5.0], [4.07, 3.29, 3.96, 4.48, 4.0, 5.0, 5.0, 5.0, 4.0, 4.0, 5.0], [3.39, 3.97, 4.06, 3.76, 4.0, 3.0, 4.0, 5.0, 4.0, 4.0, 5.0], [3.55, 3.4, 4.48, 3.44, 4.0, 5.0, 5.0, 5.0, 5.0, 5.0, 5.0], [3.44, 3.94, 3.9, 3.11, 4.0, 3.0, 5.0, 5.0, 5.0, 5.0, 5.0], [4.29, 4.57, 4.05, 4.41, 4.0, 5.0, 5.0, 5.0, 5.0, 3.0, 5.0], [3.59, 3.45, 4.16, 3.21, 4.0, 3.0, 4.0, 5.0, 5.0, 4.0, 5.0], [4.08, 3.48, 3.57, 4.06, 4.0, 3.0, 4.0, 5.0, 5.0, 4.0, 5.0], [3.31, 3.14, 3.19, 3.33, 4.0, 3.0, 5.0, 5.0, 4.0, 5.0, 5.0], [3.2, 3.5, 3.17, 2.91, 5.0, 5.0, 4.0, 5.0, 5.0, 5.0, 5.0], [3.47, 3.68, 3.43, 3.51, 5.0, 5.0, 5.0, 5.0, 4.0, 3.0, 5.0], [3.32, 3.22, 3.34, 3.79, 3.0, 5.0, 4.0, 4.0, 5.0, 3.0, 5.0], [4.31, 4.89, 4.83, 4.83, 5.0, 3.0, 5.0, 5.0, 4.0, 3.0, 5.0], [3.76, 3.12, 3.68, 3.86, 5.0, 3.0, 4.0, 5.0, 5.0, 3.0, 5.0], [4.5, 3.48, 4.83, 4.31, 3.0, 5.0, 4.0, 4.0, 5.0, 5.0, 5.0], [3.06, 3.29, 3.26, 2.86, 3.0, 5.0, 4.0, 4.0, 5.0, 5.0, 5.0], [4.65, 4.82, 4.89, 3.99, 3.0, 3.0, 5.0, 5.0, 5.0, 4.0, 5.0], [3.54, 3.08, 4.13, 3.35, 4.0, 5.0, 4.0, 5.0, 4.0, 3.0, 5.0], [3.47, 3.39, 4.12, 3.03, 3.0, 3.0, 4.0, 5.0, 5.0, 4.0, 5.0], [3.85, 3.4, 3.88, 3.33, 4.0, 3.0, 4.0, 5.0, 5.0, 4.0, 5.0], [4.68, 4.42, 4.51, 5.12, 3.0, 5.0, 5.0, 5.0, 4.0, 4.0, 5.0], [4.03, 3.56, 3.01, 4.46, 3.0, 5.0, 4.0, 5.0, 5.0, 5.0, 5.0], [3.95, 3.16, 4.04, 3.81, 4.0, 5.0, 4.0, 5.0, 5.0, 4.0, 5.0], [4.65, 4.81, 4.5, 4.31, 3.0, 5.0, 4.0, 5.0, 5.0, 5.0, 5.0]])"
   ]
  },
  {
   "cell_type": "markdown",
   "metadata": {},
   "source": [
    "Разделяем выборку на обучающую, тестовую и валидационную\n",
    "\n",
    "Обучающая используется для обучения моделей, тестовая для выбора лучшей модели, а валидационная - для итоговой оценки\n",
    "\n",
    "Делим в соотношении 50/25/25"
   ]
  },
  {
   "cell_type": "code",
   "execution_count": 3,
   "metadata": {},
   "outputs": [],
   "source": [
    "x_train, x_remaining, y_train, y_remaining = train_test_split(X, y, test_size=0.5)\n",
    "x_validate, x_test, y_validate, y_test = train_test_split(x_remaining, y_remaining, test_size=0.5)"
   ]
  },
  {
   "cell_type": "markdown",
   "metadata": {},
   "source": [
    "Создаем наши модели.\n",
    "\n",
    "Мы будем рассматривать модель множественной линейной регрессии с методом наименьших квадратов (MSE - Mean Squared Error) и модель со средней абсолютной разностью (MAE - Mean Absolute Error)"
   ]
  },
  {
   "cell_type": "code",
   "execution_count": 4,
   "metadata": {},
   "outputs": [],
   "source": [
    "regression_mse = make_pipeline(\n",
    "\tStandardScaler(),\n",
    "\tLinearRegression()\n",
    ")\n",
    "\n",
    "regression_mae = make_pipeline(\n",
    "\tStandardScaler(),\n",
    "\tSGDRegressor(loss='epsilon_insensitive', epsilon=0, max_iter=10000, tol=1e-4)\n",
    ")"
   ]
  },
  {
   "cell_type": "markdown",
   "metadata": {},
   "source": [
    "Обучаем наши модели на обучающей выборке"
   ]
  },
  {
   "cell_type": "code",
   "execution_count": 5,
   "metadata": {},
   "outputs": [
    {
     "data": {
      "text/plain": [
       "Pipeline(steps=[('standardscaler', StandardScaler()),\n",
       "                ('linearregression', LinearRegression())])"
      ]
     },
     "execution_count": 5,
     "metadata": {},
     "output_type": "execute_result"
    }
   ],
   "source": [
    "regression_mae.fit(x_train, y_train)\n",
    "regression_mse.fit(x_train, y_train)"
   ]
  },
  {
   "cell_type": "markdown",
   "metadata": {},
   "source": [
    "Рассчитываем качество моделей на тестовой выборке"
   ]
  },
  {
   "cell_type": "code",
   "execution_count": 6,
   "metadata": {},
   "outputs": [
    {
     "data": {
      "text/plain": [
       "'MSE - -16.930379508564286, MAE - 0.7731654437162534'"
      ]
     },
     "execution_count": 6,
     "metadata": {},
     "output_type": "execute_result"
    }
   ],
   "source": [
    "score_mae = regression_mae.score(x_test, y_test)\n",
    "score_mse = regression_mse.score(x_test, y_test)\n",
    "\n",
    "\"MSE - {}, MAE - {}\".format(score_mse, score_mae)"
   ]
  },
  {
   "cell_type": "markdown",
   "metadata": {},
   "source": [
    "Выбираем лучшую модель"
   ]
  },
  {
   "cell_type": "code",
   "execution_count": 7,
   "metadata": {},
   "outputs": [
    {
     "data": {
      "text/plain": [
       "Pipeline(steps=[('standardscaler', StandardScaler()),\n",
       "                ('sgdregressor',\n",
       "                 SGDRegressor(epsilon=0, loss='epsilon_insensitive',\n",
       "                              max_iter=10000, tol=0.0001))])"
      ]
     },
     "execution_count": 7,
     "metadata": {},
     "output_type": "execute_result"
    }
   ],
   "source": [
    "best_model = regression_mse if score_mse > score_mae else regression_mae\n",
    "best_model"
   ]
  },
  {
   "cell_type": "markdown",
   "metadata": {},
   "source": [
    "Оцениваем результат на валидационной выборке"
   ]
  },
  {
   "cell_type": "code",
   "execution_count": 8,
   "metadata": {},
   "outputs": [
    {
     "data": {
      "text/plain": [
       "0.6804215591595313"
      ]
     },
     "execution_count": 8,
     "metadata": {},
     "output_type": "execute_result"
    }
   ],
   "source": [
    "best_model.score(x_validate, y_validate)"
   ]
  },
  {
   "cell_type": "markdown",
   "metadata": {},
   "source": [
    "В идеале должен получиться положительный результат близкий к 1, например 0.7147298123123\n",
    "Можно вручную достигнуть переобучения, перезапуская скрипт заново, пока значение не станет максимальным. Однако, это никак не улучшит работу модели на других выборках\n",
    "\n",
    "Посмотрим какие предсказания дала нам модель, и какими значения оказались на самом деле"
   ]
  },
  {
   "cell_type": "code",
   "execution_count": 9,
   "metadata": {},
   "outputs": [
    {
     "data": {
      "text/plain": [
       "array([4.02839538, 3.84996045, 3.54171345, 3.56537097, 4.76650156,\n",
       "       4.13550863])"
      ]
     },
     "execution_count": 9,
     "metadata": {},
     "output_type": "execute_result"
    }
   ],
   "source": [
    "predicted = best_model.predict(x_validate)\n",
    "predicted"
   ]
  },
  {
   "cell_type": "code",
   "execution_count": 10,
   "metadata": {},
   "outputs": [
    {
     "data": {
      "text/plain": [
       "array([3.82, 4.22, 3.45, 3.36, 4.5 , 4.03])"
      ]
     },
     "execution_count": 10,
     "metadata": {},
     "output_type": "execute_result"
    }
   ],
   "source": [
    "y_validate"
   ]
  },
  {
   "cell_type": "code",
   "execution_count": 11,
   "metadata": {},
   "outputs": [
    {
     "data": {
      "image/png": "[encoded data removed]",
      "text/plain": [
       "<Figure size 432x288 with 1 Axes>"
      ]
     },
     "metadata": {
      "needs_background": "light"
     },
     "output_type": "display_data"
    }
   ],
   "source": [
    "fig, ax = plt.subplots()\n",
    "ax.scatter(y_validate, predicted, edgecolors=(0, 0, 0))\n",
    "ax.plot([y.min(), y.max()], [y.min(), y.max()], 'k--', lw=4)\n",
    "ax.set_xlabel('Measured')\n",
    "ax.set_ylabel('Predicted')\n",
    "plt.show()"
   ]
  }
 ],
 "metadata": {
  "kernelspec": {
   "display_name": "Python 3",
   "language": "python",
   "name": "python3"
  },
  "language_info": {
   "codemirror_mode": {
    "name": "ipython",
    "version": 3
   },
   "file_extension": ".py",
   "mimetype": "text/x-python",
   "name": "python",
   "nbconvert_exporter": "python",
   "pygments_lexer": "ipython3",
   "version": "3.8.6"
  }
 },
 "nbformat": 4,
 "nbformat_minor": 4
}
